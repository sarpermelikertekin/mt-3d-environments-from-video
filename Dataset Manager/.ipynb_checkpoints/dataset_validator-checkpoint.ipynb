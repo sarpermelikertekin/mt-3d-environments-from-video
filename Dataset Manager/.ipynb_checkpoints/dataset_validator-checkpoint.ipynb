{
 "cells": [
  {
   "cell_type": "code",
   "execution_count": 9,
   "id": "9a870855-3656-414e-8eb7-d8d70f9e5245",
   "metadata": {},
   "outputs": [
    {
     "name": "stdout",
     "output_type": "stream",
     "text": [
      "Image saved with marked corners and bounding box at C:\\Users\\sakar\\mt-3d-environments-from-video\\Dataset Generation\\Dataset Generation Unity\\Assets\\output_image_with_bbox.png\n"
     ]
    }
   ],
   "source": [
    "from PIL import Image, ImageDraw\n",
    "import re\n",
    "\n",
    "# Function to parse the corners and bounding box information from the string\n",
    "def parse_corners_and_bbox(input_string):\n",
    "    # Extract 2D corner coordinates\n",
    "    corners_pattern = r\"\\(([-\\d.]+),\\s*([-\\d.]+)\\)\"\n",
    "    corners_matches = re.findall(corners_pattern, input_string)\n",
    "    corners = [(float(x), float(y)) for x, y in corners_matches[:8]]  # First 8 coordinates are the corners\n",
    "    \n",
    "    # Extract bounding box center\n",
    "    bbox_center_pattern = r\"Bounding Box Center:\\s*\\(([-\\d.]+),\\s*([-\\d.]+)\\)\"\n",
    "    bbox_center_match = re.search(bbox_center_pattern, input_string)\n",
    "    bbox_center = (float(bbox_center_match.group(1)), float(bbox_center_match.group(2)))\n",
    "    \n",
    "    # Extract bounding box size\n",
    "    bbox_size_pattern = r\"Bounding Box Size:\\s*Width\\s*=\\s*([-\\d.]+),\\s*Height\\s*=\\s*([-\\d.]+)\"\n",
    "    bbox_size_match = re.search(bbox_size_pattern, input_string)\n",
    "    bbox_width = float(bbox_size_match.group(1))\n",
    "    bbox_height = float(bbox_size_match.group(2))\n",
    "    \n",
    "    return corners, bbox_center, bbox_width, bbox_height\n",
    "\n",
    "# Function to mark 'X' and draw bounding box on the image\n",
    "def mark_corners_and_bbox_on_image(image_path, input_string, output_image_path):\n",
    "    # Load the image\n",
    "    img = Image.open(image_path)\n",
    "    draw = ImageDraw.Draw(img)\n",
    "\n",
    "    # Parse corners and bounding box from the string\n",
    "    corners, bbox_center, bbox_width, bbox_height = parse_corners_and_bbox(input_string)\n",
    "\n",
    "    # Define the size of the 'X' mark\n",
    "    x_size = 10\n",
    "\n",
    "    # Draw 'X' marks at each corner\n",
    "    for corner in corners:\n",
    "        x, y = corner\n",
    "        # Draw two diagonal lines to represent the 'X'\n",
    "        draw.line((x - x_size, y - x_size, x + x_size, y + x_size), fill=(255, 0, 0), width=2)  # Red color\n",
    "        draw.line((x - x_size, y + x_size, x + x_size, y - x_size), fill=(255, 0, 0), width=2)  # Red color\n",
    "\n",
    "    # Draw the bounding box\n",
    "    bbox_center_x, bbox_center_y = bbox_center\n",
    "    half_width = bbox_width / 2\n",
    "    half_height = bbox_height / 2\n",
    "    top_left = (bbox_center_x - half_width, bbox_center_y - half_height)\n",
    "    bottom_right = (bbox_center_x + half_width, bbox_center_y + half_height)\n",
    "\n",
    "    # Draw the bounding box as a rectangle\n",
    "    draw.rectangle([top_left, bottom_right], outline=(0, 255, 0), width=2)  # Green color for the bounding box\n",
    "\n",
    "    # Save the modified image\n",
    "    img.save(output_image_path)\n",
    "    print(f\"Image saved with marked corners and bounding box at {output_image_path}\")\n",
    "\n",
    "# Example usage\n",
    "image_path = r\"C:\\Users\\sakar\\mt-3d-environments-from-video\\Dataset Generation\\Dataset Generation Unity\\Assets\\0.png\"  # Input image path\n",
    "input_string = \"\"\"\n",
    "Projected 2D Corners (x, y):\n",
    "(396.31, 117.02)\n",
    "(320.22, 92.22)\n",
    "(458.52, 82.47)\n",
    "(563.26, 98.63)\n",
    "(416.01, 448.58)\n",
    "(356.02, 358.59)\n",
    "(457.46, 317.39)\n",
    "(531.75, 383.71)\n",
    "Bounding Box Center: (441.74, 265.52)\n",
    "Bounding Box Size: Width = 293.04, Height = 416.11\n",
    "\"\"\"\n",
    "output_image_path = r\"C:\\Users\\sakar\\mt-3d-environments-from-video\\Dataset Generation\\Dataset Generation Unity\\Assets\\output_image_with_bbox.png\"  # Output image path\n",
    "\n",
    "mark_corners_and_bbox_on_image(image_path, input_string, output_image_path)\n"
   ]
  },
  {
   "cell_type": "code",
   "execution_count": null,
   "id": "765d55d2-779b-4f26-a2b4-a4d9ae024407",
   "metadata": {},
   "outputs": [],
   "source": []
  }
 ],
 "metadata": {
  "kernelspec": {
   "display_name": "Python 3 (ipykernel)",
   "language": "python",
   "name": "python3"
  },
  "language_info": {
   "codemirror_mode": {
    "name": "ipython",
    "version": 3
   },
   "file_extension": ".py",
   "mimetype": "text/x-python",
   "name": "python",
   "nbconvert_exporter": "python",
   "pygments_lexer": "ipython3",
   "version": "3.12.4"
  }
 },
 "nbformat": 4,
 "nbformat_minor": 5
}
